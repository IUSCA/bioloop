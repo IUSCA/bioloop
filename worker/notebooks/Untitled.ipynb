{
 "cells": [
  {
   "cell_type": "code",
   "execution_count": 1,
   "id": "b31168aa-d277-4088-9361-ac755c3cc567",
   "metadata": {},
   "outputs": [],
   "source": [
    "from pathlib import Path\n",
    "import hashlib\n",
    "import tarfile\n",
    "\n",
    "from urllib.parse import urljoin"
   ]
  },
  {
   "cell_type": "code",
   "execution_count": 11,
   "id": "dcb69d28-2f89-4814-b95a-9666388dbbea",
   "metadata": {},
   "outputs": [],
   "source": [
    "p = Path('/Users/deepakduggirala/Documents/SCA/DGL/vue-project.tar')"
   ]
  },
  {
   "cell_type": "code",
   "execution_count": 12,
   "id": "3f3a1152-e2b3-4638-acae-5deb2159014e",
   "metadata": {},
   "outputs": [
    {
     "data": {
      "text/plain": [
       "True"
      ]
     },
     "execution_count": 12,
     "metadata": {},
     "output_type": "execute_result"
    }
   ],
   "source": [
    "tarfile.is_tarfile(p)"
   ]
  },
  {
   "cell_type": "code",
   "execution_count": 16,
   "id": "3e965a2d-d80b-4da8-8ecd-10b34a8e3b6c",
   "metadata": {},
   "outputs": [],
   "source": [
    "with tarfile.open(p) as tar:\n",
    "    tar.extractall(path='/Users/deepakduggirala/Documents/SCA/DGL')"
   ]
  },
  {
   "cell_type": "code",
   "execution_count": 15,
   "id": "9b9408c9-1dfc-491f-8223-9571e5d93632",
   "metadata": {},
   "outputs": [
    {
     "data": {
      "text/plain": [
       "6537"
      ]
     },
     "execution_count": 15,
     "metadata": {},
     "output_type": "execute_result"
    }
   ],
   "source": [
    "len(members)"
   ]
  },
  {
   "cell_type": "code",
   "execution_count": 10,
   "id": "cd7ee584-552b-4aa0-a24d-7ee63d86eb14",
   "metadata": {},
   "outputs": [],
   "source": [
    "def make_tarfile(dataset):\n",
    "    tar_path = Path(f'{config[\"paths\"][\"scratch\"]}/{dataset[\"name\"]}.tar')\n",
    "    if tar_path.exists():\n",
    "        tar_path.unlink()\n",
    "    parent = Path(dataset['paths']['origin']).resolve().parent\n",
    "    with tarfile.open(tar_path, 'w') as tar:\n",
    "        tar.add(name=str(parent/dataset[\"name\"]), arcname=dataset[\"name\"], recursive=True)"
   ]
  },
  {
   "cell_type": "code",
   "execution_count": 4,
   "id": "88e02ac7-9475-41ac-8e36-94d54b35cf25",
   "metadata": {},
   "outputs": [
    {
     "data": {
      "text/plain": [
       "'/Users/deepakduggirala/Documents/SCA/DGL/DGL/worker/notebooks'"
      ]
     },
     "execution_count": 4,
     "metadata": {},
     "output_type": "execute_result"
    }
   ],
   "source": [
    "pwd"
   ]
  },
  {
   "cell_type": "code",
   "execution_count": 7,
   "id": "aa938bcc-dd3a-46ff-905a-85477e2eaf8f",
   "metadata": {},
   "outputs": [],
   "source": [
    "dataset = {\n",
    "    'name': 'vue-project', \n",
    "    'paths': {\n",
    "        'origin': '/Users/deepakduggirala/Documents/tutorials/vue-project'\n",
    "    }\n",
    "}\n",
    "config = {\n",
    "    'paths': {\n",
    "        'scratch': '/Users/deepakduggirala/Documents/SCA/DGL'\n",
    "    }\n",
    "}"
   ]
  },
  {
   "cell_type": "code",
   "execution_count": 11,
   "id": "182e8dd8-0f80-471b-be9a-c29a76d8d61f",
   "metadata": {},
   "outputs": [],
   "source": [
    "make_tarfile(dataset)"
   ]
  },
  {
   "cell_type": "code",
   "execution_count": 17,
   "id": "d73e2ebe-f5e7-424d-9d17-e9a3e02d7afb",
   "metadata": {},
   "outputs": [
    {
     "data": {
      "text/plain": [
       "'http://localhost:3000/registrations'"
      ]
     },
     "execution_count": 17,
     "metadata": {},
     "output_type": "execute_result"
    }
   ],
   "source": [
    "base_url = 'http://localhost:3000'\n",
    "url = urljoin(base_url, 'registrations')\n",
    "url"
   ]
  }
 ],
 "metadata": {
  "kernelspec": {
   "display_name": "Python 3 (ipykernel)",
   "language": "python",
   "name": "python3"
  },
  "language_info": {
   "codemirror_mode": {
    "name": "ipython",
    "version": 3
   },
   "file_extension": ".py",
   "mimetype": "text/x-python",
   "name": "python",
   "nbconvert_exporter": "python",
   "pygments_lexer": "ipython3",
   "version": "3.11.0"
  }
 },
 "nbformat": 4,
 "nbformat_minor": 5
}
